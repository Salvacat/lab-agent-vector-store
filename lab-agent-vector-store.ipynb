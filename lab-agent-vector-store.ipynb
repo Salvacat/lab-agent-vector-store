{
 "cells": [
  {
   "cell_type": "markdown",
   "id": "efad6479-7fb1-40c4-8610-8963f8de307f",
   "metadata": {},
   "source": [
    "# Lab | Agent & Vector store\n",
    "\n",
    "**Change the state union dataset and replicate this lab by updating the prompts accordingly.**\n",
    "\n",
    "One such dataset is the [sonnets.txt](https://github.com/martin-gorner/tensorflow-rnn-shakespeare/blob/master/shakespeare/sonnets.txt) dataset or any other data of your choice from the same git."
   ]
  },
  {
   "cell_type": "markdown",
   "id": "68b24990",
   "metadata": {},
   "source": [
    "# Combine agents and vector stores\n",
    "\n",
    "This notebook covers how to combine agents and vector stores. The use case for this is that you've ingested your data into a vector store and want to interact with it in an agentic manner.\n",
    "\n",
    "The recommended method for doing so is to create a `RetrievalQA` and then use that as a tool in the overall agent. Let's take a look at doing this below. You can do this with multiple different vector DBs, and use the agent as a way to route between them. There are two different ways of doing this - you can either let the agent use the vector stores as normal tools, or you can set `return_direct=True` to really just use the agent as a router."
   ]
  },
  {
   "cell_type": "markdown",
   "id": "9b22020a",
   "metadata": {},
   "source": [
    "## Create the vector store"
   ]
  },
  {
   "cell_type": "code",
   "execution_count": 25,
   "id": "12df91e0-7322-43c2-96cd-0159d017a1e1",
   "metadata": {
    "tags": []
   },
   "outputs": [
    {
     "name": "stdout",
     "output_type": "stream",
     "text": [
      "^C\n"
     ]
    }
   ],
   "source": [
    "#!pip install chromadb"
   ]
  },
  {
   "cell_type": "code",
   "execution_count": 26,
   "id": "2868cff1-a3ef-426f-b8d7-7fe89047a5b7",
   "metadata": {
    "tags": []
   },
   "outputs": [],
   "source": [
    "from langchain.chains import RetrievalQA\n",
    "from langchain_community.vectorstores import Chroma\n",
    "from langchain_openai import OpenAI, OpenAIEmbeddings\n",
    "from langchain_text_splitters import CharacterTextSplitter\n",
    "from langchain_community.document_loaders import TextLoader"
   ]
  },
  {
   "cell_type": "code",
   "execution_count": 27,
   "id": "aeff3a2d-b0cc-429f-a34c-4381d71f1a5f",
   "metadata": {
    "tags": []
   },
   "outputs": [],
   "source": [
    "import os\n",
    "from dotenv import load_dotenv, find_dotenv\n",
    "_ = load_dotenv(find_dotenv())\n",
    "\n",
    "OPENAI_API_KEY  = os.getenv('OPENAI_API_KEY')\n",
    "HUGGINGFACEHUB_API_TOKEN = os.getenv('HUGGINGFACEHUB_API_TOKEN')"
   ]
  },
  {
   "cell_type": "code",
   "execution_count": 73,
   "id": "14331eec-fd46-42e0-b6e7-adaf21824ef7",
   "metadata": {
    "tags": []
   },
   "outputs": [],
   "source": [
    "llm = OpenAI(temperature=0)"
   ]
  },
  {
   "cell_type": "code",
   "execution_count": 32,
   "id": "1431cded",
   "metadata": {
    "tags": []
   },
   "outputs": [],
   "source": [
    "from langchain_community.document_loaders import WebBaseLoader"
   ]
  },
  {
   "cell_type": "code",
   "execution_count": 74,
   "id": "72f17efa",
   "metadata": {},
   "outputs": [],
   "source": [
    "text_splitter = CharacterTextSplitter(chunk_size=3000, chunk_overlap=0)\n",
    "embeddings = OpenAIEmbeddings()\n"
   ]
  },
  {
   "cell_type": "code",
   "execution_count": 75,
   "id": "4ff599e3",
   "metadata": {},
   "outputs": [],
   "source": [
    "loader = WebBaseLoader(\"https://www.trailandkale.com/tips/beginners-guide-trail-running/\")"
   ]
  },
  {
   "cell_type": "code",
   "execution_count": 76,
   "id": "de22857a",
   "metadata": {},
   "outputs": [
    {
     "name": "stderr",
     "output_type": "stream",
     "text": [
      "Created a chunk of size 7294, which is longer than the specified 3000\n",
      "Created a chunk of size 3320, which is longer than the specified 3000\n",
      "Created a chunk of size 4426, which is longer than the specified 3000\n",
      "Created a chunk of size 3111, which is longer than the specified 3000\n"
     ]
    }
   ],
   "source": [
    "docs = loader.load()\n",
    "trail_running_texts = text_splitter.split_documents(docs)\n",
    "trail_running_db = Chroma.from_documents(trail_running_texts, embeddings, collection_name=\"barefoot\")\n",
    "trail_running = RetrievalQA.from_chain_type(\n",
    "    llm=llm, chain_type=\"stuff\", retriever=trail_running_db.as_retriever()\n",
    ")"
   ]
  },
  {
   "cell_type": "code",
   "execution_count": 77,
   "id": "915d3ff3",
   "metadata": {
    "tags": []
   },
   "outputs": [],
   "source": [
    "loader = WebBaseLoader(\"https://anyasreviews.com/barefoot-shoes-faq/\")"
   ]
  },
  {
   "cell_type": "code",
   "execution_count": 78,
   "id": "96a2edf8",
   "metadata": {
    "tags": []
   },
   "outputs": [],
   "source": [
    "docs = loader.load()\n",
    "barefoot_texts = text_splitter.split_documents(docs)\n",
    "barefoot_db = Chroma.from_documents(barefoot_texts, embeddings, collection_name=\"barefoot\")\n",
    "barefoot = RetrievalQA.from_chain_type(\n",
    "    llm=llm, chain_type=\"stuff\", retriever=barefoot_db.as_retriever()\n",
    ")"
   ]
  },
  {
   "cell_type": "code",
   "execution_count": 79,
   "id": "53c68d0a",
   "metadata": {},
   "outputs": [],
   "source": [
    "#!pip install beautifulsoup4\n"
   ]
  },
  {
   "cell_type": "markdown",
   "id": "c0a6c031",
   "metadata": {},
   "source": [
    "## Create the Agent"
   ]
  },
  {
   "cell_type": "code",
   "execution_count": 80,
   "id": "eb142786",
   "metadata": {
    "tags": []
   },
   "outputs": [],
   "source": [
    "# Import things that are needed generically\n",
    "from langchain.agents import AgentType, Tool, initialize_agent\n",
    "from langchain_openai import OpenAI"
   ]
  },
  {
   "cell_type": "code",
   "execution_count": 81,
   "id": "850bc4e9",
   "metadata": {
    "tags": []
   },
   "outputs": [],
   "source": [
    "tools = [\n",
    "    Tool(\n",
    "        name=\"Trail running QA System\",\n",
    "        func=trail_running.run,\n",
    "        description=\"useful for when you need to answer questions about trail running. Input should be a fully formed question.\",\n",
    "    ),\n",
    "    Tool(\n",
    "        name=\"barefoot QA System\",\n",
    "        func=barefoot.run,\n",
    "        description=\"useful for when you need to answer questions about barefoot lifestyle. Input should be a fully formed question.\",\n",
    "    ),\n",
    "]"
   ]
  },
  {
   "cell_type": "code",
   "execution_count": 82,
   "id": "fc47f230",
   "metadata": {
    "tags": []
   },
   "outputs": [],
   "source": [
    "# Construct the agent. We will use the default agent type here.\n",
    "# See documentation for a full list of options.\n",
    "agent = initialize_agent(\n",
    "    tools, llm, agent=AgentType.ZERO_SHOT_REACT_DESCRIPTION, verbose=True\n",
    ")"
   ]
  },
  {
   "cell_type": "code",
   "execution_count": 83,
   "id": "10ca2db8",
   "metadata": {
    "tags": []
   },
   "outputs": [
    {
     "name": "stdout",
     "output_type": "stream",
     "text": [
      "\n",
      "\n",
      "\u001b[1m> Entering new AgentExecutor chain...\u001b[0m\n",
      "\u001b[32;1m\u001b[1;3m You should always think about what to do\n",
      "Action: Trail running QA System\n",
      "Action Input: What is needed for trail running?\u001b[0m\n",
      "Observation: \u001b[36;1m\u001b[1;3m Trail running shoes and a hydration pack or race vest are recommended as the top two pieces of gear for trail running. Other gear, such as trail running poles, GPS watches, hats, and sunglasses, can also be helpful depending on the individual's preferences and the type of trail running they do.\u001b[0m\n",
      "Thought:\u001b[32;1m\u001b[1;3m I now know the final answer\n",
      "Final Answer: The top two pieces of gear recommended for trail running are trail running shoes and a hydration pack or race vest. Other gear, such as trail running poles, GPS watches, hats, and sunglasses, can also be helpful depending on the individual's preferences and the type of trail running they do.\u001b[0m\n",
      "\n",
      "\u001b[1m> Finished chain.\u001b[0m\n"
     ]
    },
    {
     "data": {
      "text/plain": [
       "{'input': 'What is needed for trail running?',\n",
       " 'output': \"The top two pieces of gear recommended for trail running are trail running shoes and a hydration pack or race vest. Other gear, such as trail running poles, GPS watches, hats, and sunglasses, can also be helpful depending on the individual's preferences and the type of trail running they do.\"}"
      ]
     },
     "execution_count": 83,
     "metadata": {},
     "output_type": "execute_result"
    }
   ],
   "source": [
    "agent.invoke(\n",
    "    \"What is needed for trail running?\"\n",
    ")"
   ]
  },
  {
   "cell_type": "code",
   "execution_count": 84,
   "id": "4e91b811",
   "metadata": {
    "tags": []
   },
   "outputs": [
    {
     "name": "stdout",
     "output_type": "stream",
     "text": [
      "\n",
      "\n",
      "\u001b[1m> Entering new AgentExecutor chain...\u001b[0m\n",
      "\u001b[32;1m\u001b[1;3m Going barefoot may have some benefits, but it's important to consider the potential risks as well.\n",
      "Action: barefoot QA System\n",
      "Action Input: \"What are the benefits of going barefoot?\"\u001b[0m\n",
      "Observation: \u001b[33;1m\u001b[1;3m\n",
      "\n",
      "There are several potential benefits of going barefoot, including improved foot strength and mobility, better balance and posture, and reduced risk of foot and ankle injuries. Going barefoot can also help to improve sensory feedback and proprioception (awareness of body position and movement) in the feet. Additionally, some people find that going barefoot can help to alleviate foot pain and discomfort caused by wearing traditional shoes.\u001b[0m\n",
      "Thought:\u001b[32;1m\u001b[1;3m It's important to also consider the potential risks of going barefoot, such as increased risk of cuts, scrapes, and infections, as well as potential discomfort on rough or hot surfaces.\n",
      "Action: barefoot QA System\n",
      "Action Input: \"What are the risks of going barefoot?\"\u001b[0m\n",
      "Observation: \u001b[33;1m\u001b[1;3m\n",
      "The risks of going barefoot include potential injuries to the feet, such as cuts, bruises, and blisters. Going barefoot can also increase the risk of developing plantar fasciitis, stress fractures, and other foot conditions. Additionally, walking on hard or uneven surfaces without proper protection can lead to discomfort and pain. It is important to gradually transition to barefoot shoes and listen to your body to avoid these risks.\u001b[0m\n",
      "Thought:\u001b[32;1m\u001b[1;3m Based on the potential benefits and risks, it's important to make an informed decision about whether or not to go barefoot.\n",
      "Final Answer: Ultimately, the decision to go barefoot should be based on personal preference and individual needs. It's important to weigh the potential benefits and risks and make a decision that is right for you.\u001b[0m\n",
      "\n",
      "\u001b[1m> Finished chain.\u001b[0m\n"
     ]
    },
    {
     "data": {
      "text/plain": [
       "{'input': 'are there any benefits on trying to go barefoot?',\n",
       " 'output': \"Ultimately, the decision to go barefoot should be based on personal preference and individual needs. It's important to weigh the potential benefits and risks and make a decision that is right for you.\"}"
      ]
     },
     "execution_count": 84,
     "metadata": {},
     "output_type": "execute_result"
    }
   ],
   "source": [
    "agent.invoke(\"are there any benefits on trying to go barefoot?\")"
   ]
  },
  {
   "cell_type": "markdown",
   "id": "787a9b5e",
   "metadata": {},
   "source": [
    "## Use the Agent solely as a router"
   ]
  },
  {
   "cell_type": "markdown",
   "id": "9161ba91",
   "metadata": {},
   "source": [
    "You can also set `return_direct=True` if you intend to use the agent as a router and just want to directly return the result of the RetrievalQAChain.\n",
    "\n",
    "Notice that in the above examples the agent did some extra work after querying the RetrievalQAChain. You can avoid that and just return the result directly."
   ]
  },
  {
   "cell_type": "code",
   "execution_count": 85,
   "id": "3962ea9f",
   "metadata": {},
   "outputs": [],
   "source": [
    "tools = [\n",
    "    Tool(\n",
    "        name=\"Trail running QA System\",\n",
    "        func=trail_running.run,\n",
    "        description=\"useful for when you need to answer questions about trail running. Input should be a fully formed question.\",\n",
    "        return_direct=True,\n",
    "    ),\n",
    "    Tool(\n",
    "        name=\"barefoot QA System\",\n",
    "        func=barefoot.run,\n",
    "        description=\"useful for when you need to answer questions about barefoot lifestyle. Input should be a fully formed question.\",\n",
    "        return_direct=True,\n",
    "    ),\n",
    "]"
   ]
  },
  {
   "cell_type": "code",
   "execution_count": 86,
   "id": "8615707a",
   "metadata": {
    "tags": []
   },
   "outputs": [],
   "source": [
    "agent = initialize_agent(\n",
    "    tools, llm, agent=AgentType.ZERO_SHOT_REACT_DESCRIPTION, verbose=True\n",
    ")"
   ]
  },
  {
   "cell_type": "code",
   "execution_count": 87,
   "id": "36e718a9",
   "metadata": {
    "tags": []
   },
   "outputs": [
    {
     "name": "stdout",
     "output_type": "stream",
     "text": [
      "\n",
      "\n",
      "\u001b[1m> Entering new AgentExecutor chain...\u001b[0m\n",
      "\u001b[32;1m\u001b[1;3m It depends on a person's physical abilities and health.\n",
      "Action: Trail running QA System\n",
      "Action Input: \"Is trail running something everyone can do?\"\u001b[0m\n",
      "Observation: \u001b[36;1m\u001b[1;3m\n",
      "Yes, trail running is something that anyone can do, as long as they are physically able and have the proper gear and preparation. However, it is important to start slowly and build up mileage and experience gradually to avoid injury and ensure a positive experience.\u001b[0m\n",
      "\u001b[32;1m\u001b[1;3m\u001b[0m\n",
      "\n",
      "\u001b[1m> Finished chain.\u001b[0m\n"
     ]
    },
    {
     "data": {
      "text/plain": [
       "{'input': 'Is trail running something everyone can do?',\n",
       " 'output': '\\nYes, trail running is something that anyone can do, as long as they are physically able and have the proper gear and preparation. However, it is important to start slowly and build up mileage and experience gradually to avoid injury and ensure a positive experience.'}"
      ]
     },
     "execution_count": 87,
     "metadata": {},
     "output_type": "execute_result"
    }
   ],
   "source": [
    "agent.invoke(\n",
    "    \"Is trail running something everyone can do?\"\n",
    ")"
   ]
  },
  {
   "cell_type": "code",
   "execution_count": 88,
   "id": "edfd0a1a",
   "metadata": {
    "tags": []
   },
   "outputs": [
    {
     "name": "stdout",
     "output_type": "stream",
     "text": [
      "\n",
      "\n",
      "\u001b[1m> Entering new AgentExecutor chain...\u001b[0m\n",
      "\u001b[32;1m\u001b[1;3m You should always think about the potential negative consequences of any lifestyle change.\n",
      "Action: barefoot QA System\n",
      "Action Input: \"How will going barefoot affect my health?\"\u001b[0m\n",
      "Observation: \u001b[33;1m\u001b[1;3m\n",
      "\n",
      "Going barefoot can have a positive impact on your health in several ways. It can improve your foot strength, mobility, and stability, which can help prevent foot pain and injuries. It can also improve your overall body alignment, which can alleviate back and neck pain. Additionally, going barefoot can provide sensory stimulation for your feet, which can improve balance and proprioception. However, it is important to transition gradually and listen to your body to avoid overuse injuries. It is also important to maintain good hygiene and avoid potential hazards when going barefoot.\u001b[0m\n",
      "\u001b[32;1m\u001b[1;3m\u001b[0m\n",
      "\n",
      "\u001b[1m> Finished chain.\u001b[0m\n"
     ]
    },
    {
     "data": {
      "text/plain": [
       "{'input': 'How is going barefoot going to impact me negatively?',\n",
       " 'output': '\\n\\nGoing barefoot can have a positive impact on your health in several ways. It can improve your foot strength, mobility, and stability, which can help prevent foot pain and injuries. It can also improve your overall body alignment, which can alleviate back and neck pain. Additionally, going barefoot can provide sensory stimulation for your feet, which can improve balance and proprioception. However, it is important to transition gradually and listen to your body to avoid overuse injuries. It is also important to maintain good hygiene and avoid potential hazards when going barefoot.'}"
      ]
     },
     "execution_count": 88,
     "metadata": {},
     "output_type": "execute_result"
    }
   ],
   "source": [
    "agent.invoke(\"How is going barefoot going to impact me negatively?\")"
   ]
  },
  {
   "cell_type": "markdown",
   "id": "49a0cbbe",
   "metadata": {},
   "source": [
    "## Multi-Hop vector store reasoning\n",
    "\n",
    "Because vector stores are easily usable as tools in agents, it is easy to use answer multi-hop questions that depend on vector stores using the existing agent framework."
   ]
  },
  {
   "cell_type": "code",
   "execution_count": 89,
   "id": "d397a233",
   "metadata": {
    "tags": []
   },
   "outputs": [],
   "source": [
    "tools = [\n",
    "    Tool(\n",
    "        name=\"Trail running QA System\",\n",
    "        func=trail_running.run,\n",
    "        description=\"useful for when you need to answer questions about trail running. Input should be a fully formed question.\",\n",
    "    ),\n",
    "    Tool(\n",
    "        name=\"barefoot QA System\",\n",
    "        func=barefoot.run,\n",
    "        description=\"useful for when you need to answer questions about barefoot lifestyle. Input should be a fully formed question.\",\n",
    "    ),\n",
    "]"
   ]
  },
  {
   "cell_type": "code",
   "execution_count": 90,
   "id": "06157240",
   "metadata": {
    "tags": []
   },
   "outputs": [],
   "source": [
    "# Construct the agent. We will use the default agent type here.\n",
    "# See documentation for a full list of options.\n",
    "agent = initialize_agent(\n",
    "    tools, llm, agent=AgentType.ZERO_SHOT_REACT_DESCRIPTION, verbose=True\n",
    ")"
   ]
  },
  {
   "cell_type": "code",
   "execution_count": 91,
   "id": "b492b520",
   "metadata": {
    "tags": []
   },
   "outputs": [
    {
     "name": "stdout",
     "output_type": "stream",
     "text": [
      "\n",
      "\n",
      "\u001b[1m> Entering new AgentExecutor chain...\u001b[0m\n",
      "\u001b[32;1m\u001b[1;3m You should consider the potential risks and benefits of barefoot trail running.\n",
      "Action: Trail running QA System\n",
      "Action Input: \"What are the risks and benefits of barefoot trail running?\"\u001b[0m\n",
      "Observation: \u001b[36;1m\u001b[1;3m\n",
      "\n",
      "The risks of barefoot trail running include potential injuries to the feet, such as cuts, scrapes, and bruises from rough terrain. There is also a risk of overuse injuries if the runner is not properly conditioned and prepared for barefoot running.\n",
      "\n",
      "However, there are also many benefits to barefoot trail running. It can improve foot strength and balance, as well as promote a more natural running form. It can also reduce the risk of certain injuries, such as knee and ankle injuries, that may occur while running in traditional shoes. Additionally, barefoot trail running can be a more enjoyable and sensory experience, allowing the runner to connect with nature and their surroundings.\u001b[0m\n",
      "Thought:\u001b[32;1m\u001b[1;3m I now know the final answer\n",
      "Final Answer: The risks of barefoot trail running include potential injuries to the feet, while the benefits include improved foot strength and balance, reduced risk of certain injuries, and a more enjoyable sensory experience.\u001b[0m\n",
      "\n",
      "\u001b[1m> Finished chain.\u001b[0m\n"
     ]
    },
    {
     "data": {
      "text/plain": [
       "{'input': 'What should I keep in mind if I want to go trail running but try doing it barefoot?',\n",
       " 'output': 'The risks of barefoot trail running include potential injuries to the feet, while the benefits include improved foot strength and balance, reduced risk of certain injuries, and a more enjoyable sensory experience.'}"
      ]
     },
     "execution_count": 91,
     "metadata": {},
     "output_type": "execute_result"
    }
   ],
   "source": [
    "agent.invoke(\n",
    "    \"What should I keep in mind if I want to go trail running but try doing it barefoot?\"\n",
    ")"
   ]
  },
  {
   "cell_type": "code",
   "execution_count": null,
   "id": "a44557b0",
   "metadata": {},
   "outputs": [],
   "source": []
  }
 ],
 "metadata": {
  "kernelspec": {
   "display_name": "rag_env",
   "language": "python",
   "name": "python3"
  },
  "language_info": {
   "codemirror_mode": {
    "name": "ipython",
    "version": 3
   },
   "file_extension": ".py",
   "mimetype": "text/x-python",
   "name": "python",
   "nbconvert_exporter": "python",
   "pygments_lexer": "ipython3",
   "version": "3.12.3"
  }
 },
 "nbformat": 4,
 "nbformat_minor": 5
}
